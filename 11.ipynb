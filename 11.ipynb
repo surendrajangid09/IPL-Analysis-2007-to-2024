{
 "cells": [
  {
   "cell_type": "code",
   "execution_count": 1,
   "id": "e964072e-aa05-438a-8e1b-f330576ef2bb",
   "metadata": {},
   "outputs": [],
   "source": [
    "import pandas as pd"
   ]
  },
  {
   "cell_type": "code",
   "execution_count": 2,
   "id": "6058e44b-6bc4-4caf-ad51-ec343904b103",
   "metadata": {},
   "outputs": [],
   "source": [
    "import numpy as np"
   ]
  },
  {
   "cell_type": "code",
   "execution_count": 3,
   "id": "49fd8c02-aba1-491f-bf37-710afb75ff55",
   "metadata": {},
   "outputs": [
    {
     "data": {
      "text/html": [
       "<div>\n",
       "<style scoped>\n",
       "    .dataframe tbody tr th:only-of-type {\n",
       "        vertical-align: middle;\n",
       "    }\n",
       "\n",
       "    .dataframe tbody tr th {\n",
       "        vertical-align: top;\n",
       "    }\n",
       "\n",
       "    .dataframe thead th {\n",
       "        text-align: right;\n",
       "    }\n",
       "</style>\n",
       "<table border=\"1\" class=\"dataframe\">\n",
       "  <thead>\n",
       "    <tr style=\"text-align: right;\">\n",
       "      <th></th>\n",
       "      <th>Rank</th>\n",
       "      <th>Company Name</th>\n",
       "      <th>Number of Employees</th>\n",
       "      <th>Previous Rank</th>\n",
       "      <th>Revenues</th>\n",
       "      <th>Revenue Change</th>\n",
       "      <th>Profits</th>\n",
       "      <th>Profit Change</th>\n",
       "      <th>Assets</th>\n",
       "      <th>Market Value</th>\n",
       "    </tr>\n",
       "  </thead>\n",
       "  <tbody>\n",
       "    <tr>\n",
       "      <th>0</th>\n",
       "      <td>1</td>\n",
       "      <td>Walmart</td>\n",
       "      <td>23,00,000</td>\n",
       "      <td>1.0</td>\n",
       "      <td>$4,85,873</td>\n",
       "      <td>0.80%</td>\n",
       "      <td>$13,643.00</td>\n",
       "      <td>-7.20%</td>\n",
       "      <td>$1,98,825</td>\n",
       "      <td>$2,18,619</td>\n",
       "    </tr>\n",
       "    <tr>\n",
       "      <th>1</th>\n",
       "      <td>2</td>\n",
       "      <td>Berkshire Hathaway</td>\n",
       "      <td>3,67,700</td>\n",
       "      <td>4.0</td>\n",
       "      <td>$2,23,604</td>\n",
       "      <td>6.10%</td>\n",
       "      <td>$24,074.00</td>\n",
       "      <td>0.00%</td>\n",
       "      <td>$6,20,854</td>\n",
       "      <td>$4,11,035</td>\n",
       "    </tr>\n",
       "    <tr>\n",
       "      <th>2</th>\n",
       "      <td>3</td>\n",
       "      <td>Apple</td>\n",
       "      <td>1,16,000</td>\n",
       "      <td>3.0</td>\n",
       "      <td>$2,15,639</td>\n",
       "      <td>-7.70%</td>\n",
       "      <td>$45,687.00</td>\n",
       "      <td>-14.40%</td>\n",
       "      <td>$3,21,686</td>\n",
       "      <td>$7,53,718</td>\n",
       "    </tr>\n",
       "    <tr>\n",
       "      <th>3</th>\n",
       "      <td>4</td>\n",
       "      <td>Exxon Mobil</td>\n",
       "      <td>72,700</td>\n",
       "      <td>2.0</td>\n",
       "      <td>$2,05,004</td>\n",
       "      <td>-16.70%</td>\n",
       "      <td>$7,840.00</td>\n",
       "      <td>-51.50%</td>\n",
       "      <td>$3,30,314</td>\n",
       "      <td>$3,40,056</td>\n",
       "    </tr>\n",
       "    <tr>\n",
       "      <th>4</th>\n",
       "      <td>5</td>\n",
       "      <td>McKesson</td>\n",
       "      <td>68,000</td>\n",
       "      <td>5.0</td>\n",
       "      <td>$1,92,487</td>\n",
       "      <td>6.20%</td>\n",
       "      <td>$2,258.00</td>\n",
       "      <td>53.00%</td>\n",
       "      <td>$56,563</td>\n",
       "      <td>$31,439</td>\n",
       "    </tr>\n",
       "  </tbody>\n",
       "</table>\n",
       "</div>"
      ],
      "text/plain": [
       "   Rank        Company Name Number of Employees  Previous Rank   Revenues  \\\n",
       "0     1             Walmart           23,00,000            1.0  $4,85,873   \n",
       "1     2  Berkshire Hathaway            3,67,700            4.0  $2,23,604   \n",
       "2     3               Apple            1,16,000            3.0  $2,15,639   \n",
       "3     4         Exxon Mobil              72,700            2.0  $2,05,004   \n",
       "4     5            McKesson              68,000            5.0  $1,92,487   \n",
       "\n",
       "  Revenue Change     Profits Profit Change     Assets Market Value  \n",
       "0          0.80%  $13,643.00        -7.20%  $1,98,825    $2,18,619  \n",
       "1          6.10%  $24,074.00         0.00%  $6,20,854    $4,11,035  \n",
       "2         -7.70%  $45,687.00       -14.40%  $3,21,686    $7,53,718  \n",
       "3        -16.70%   $7,840.00       -51.50%  $3,30,314    $3,40,056  \n",
       "4          6.20%   $2,258.00        53.00%    $56,563      $31,439  "
      ]
     },
     "execution_count": 3,
     "metadata": {},
     "output_type": "execute_result"
    }
   ],
   "source": [
    "df = pd.read_csv('fortune.csv')\n",
    "df.head()"
   ]
  },
  {
   "cell_type": "code",
   "execution_count": 5,
   "id": "b11cf789-a84e-4ee3-95b8-bbae7850f9f4",
   "metadata": {},
   "outputs": [],
   "source": [
    "company_name = df.groupby('Company Name')"
   ]
  },
  {
   "cell_type": "code",
   "execution_count": 6,
   "id": "b874ed05-5041-4cec-8c36-35c0ae8b2858",
   "metadata": {},
   "outputs": [
    {
     "data": {
      "text/plain": [
       "497"
      ]
     },
     "execution_count": 6,
     "metadata": {},
     "output_type": "execute_result"
    }
   ],
   "source": [
    "len(company_name)"
   ]
  },
  {
   "cell_type": "code",
   "execution_count": 7,
   "id": "4e77b85f-3a32-4ad5-8919-0ddab36eb28f",
   "metadata": {},
   "outputs": [
    {
     "data": {
      "text/plain": [
       "Company Name\n",
       "3M                        1\n",
       "A-Mark Precious Metals    1\n",
       "ABM Industries            1\n",
       "ADP                       1\n",
       "AECOM                     1\n",
       "                         ..\n",
       "Yum China Holdings        1\n",
       "Zimmer Biomet Holdings    1\n",
       "eBay                      1\n",
       "iHeartMedia               1\n",
       "salesforce.com            1\n",
       "Length: 497, dtype: int64"
      ]
     },
     "execution_count": 7,
     "metadata": {},
     "output_type": "execute_result"
    }
   ],
   "source": [
    "company_name.size()"
   ]
  },
  {
   "cell_type": "code",
   "execution_count": null,
   "id": "9fd96561-85b3-48ab-b957-95fc33414992",
   "metadata": {},
   "outputs": [],
   "source": []
  }
 ],
 "metadata": {
  "kernelspec": {
   "display_name": "Python 3 (ipykernel)",
   "language": "python",
   "name": "python3"
  },
  "language_info": {
   "codemirror_mode": {
    "name": "ipython",
    "version": 3
   },
   "file_extension": ".py",
   "mimetype": "text/x-python",
   "name": "python",
   "nbconvert_exporter": "python",
   "pygments_lexer": "ipython3",
   "version": "3.12.6"
  }
 },
 "nbformat": 4,
 "nbformat_minor": 5
}
